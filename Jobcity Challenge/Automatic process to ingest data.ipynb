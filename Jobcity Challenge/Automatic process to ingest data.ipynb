{
 "cells": [
  {
   "cell_type": "markdown",
   "metadata": {},
   "source": [
    "There must be an automated process to ingest and store the data.\n",
    "\n",
    "● Trips with similar origin, destination, and time of day should be grouped together.\n",
    "\n",
    "● Develop a way to obtain the weekly average number of trips for an area, defined by a\n",
    "bounding box (given by coordinates) or by a region.\n",
    "\n",
    "● Develop a way to inform the user about the status of the data ingestion without using a\n",
    "polling solution.\n",
    "\n",
    "● The solution should be scalable to 100 million entries. It is encouraged to simplify the\n",
    "data by a data model. Please add proof that the solution is scalable.\n",
    "\n",
    "● Use a SQL database."
   ]
  },
  {
   "cell_type": "code",
   "execution_count": 176,
   "metadata": {},
   "outputs": [],
   "source": [
    "import pandas as pd\n",
    "import numpy as np\n",
    "from datetime import datetime,timedelta\n",
    "import os"
   ]
  },
  {
   "cell_type": "code",
   "execution_count": 177,
   "metadata": {},
   "outputs": [],
   "source": [
    "analyze_folder = \"D://Documentos//Data Science//Personal Projects//Jobcity Challenge//Data\""
   ]
  },
  {
   "cell_type": "code",
   "execution_count": 178,
   "metadata": {},
   "outputs": [],
   "source": [
    "for file in os.listdir(analyze_folder):\n",
    "    if file.split(\".\")[1] == \"csv\":    \n",
    "        analytics_df = pd.read_csv(analyze_folder + \"//\" + file)\n",
    "    elif file.split(\".\")[1] == \"xlsx\":    \n",
    "        analytics_df = pd.read_excel(analyze_folder + \"//\" + file)\n",
    "        \n",
    "        "
   ]
  },
  {
   "cell_type": "code",
   "execution_count": 179,
   "metadata": {},
   "outputs": [],
   "source": [
    "analytics_df[\"Origin_x\"] = analytics_df.origin_coord.str.split(expand=True)[1].str.replace(\"(\",\"\").astype(float).round(0)\n",
    "analytics_df[\"Origin_y\"] = analytics_df.origin_coord.str.split(expand=True)[2].str.replace(\")\",\"\").astype(float).round(0)\n",
    "\n",
    "analytics_df[\"Destination_x\"] = analytics_df.destination_coord.str.split(expand=True)[1].str.replace(\"(\",\"\").astype(float).round(0)\n",
    "analytics_df[\"Destination_y\"] = analytics_df.destination_coord.str.split(expand=True)[2].str.replace(\")\",\"\").astype(float).round(0)"
   ]
  },
  {
   "cell_type": "code",
   "execution_count": 180,
   "metadata": {},
   "outputs": [],
   "source": [
    "\n",
    "analytics_df['datetime'] = pd.to_datetime(analytics_df['datetime'])\n",
    "\n",
    "time_window = \"30min\"\n",
    "\n",
    "analytics_df[\"Time\"] = analytics_df['datetime'].dt.round(time_window).dt.strftime('%H:%M')\n",
    "\n",
    "\n",
    "analytics_df[\"Week\"] = analytics_df['datetime'].dt.isocalendar().week"
   ]
  },
  {
   "cell_type": "code",
   "execution_count": 181,
   "metadata": {},
   "outputs": [],
   "source": [
    "df_grouped = analytics_df.groupby([\"Origin_x\",\"Origin_y\",\"Destination_x\",\"Destination_y\",\"Time\"]).agg({\"region\": \"min\",\"origin_coord\": \"min\",\"destination_coord\" : \"min\",\"datetime\":\"min\"})"
   ]
  },
  {
   "cell_type": "code",
   "execution_count": 185,
   "metadata": {},
   "outputs": [],
   "source": [
    "df_grouped_2 = analytics_df.groupby([\"Week\",\"region\"]).agg({\"origin_coord\":\"count\"}).sort_index().reset_index()"
   ]
  },
  {
   "cell_type": "code",
   "execution_count": 187,
   "metadata": {
    "scrolled": true
   },
   "outputs": [
    {
     "data": {
      "text/html": [
       "<div>\n",
       "<style scoped>\n",
       "    .dataframe tbody tr th:only-of-type {\n",
       "        vertical-align: middle;\n",
       "    }\n",
       "\n",
       "    .dataframe tbody tr th {\n",
       "        vertical-align: top;\n",
       "    }\n",
       "\n",
       "    .dataframe thead th {\n",
       "        text-align: right;\n",
       "    }\n",
       "</style>\n",
       "<table border=\"1\" class=\"dataframe\">\n",
       "  <thead>\n",
       "    <tr style=\"text-align: right;\">\n",
       "      <th></th>\n",
       "      <th>Week</th>\n",
       "      <th>region</th>\n",
       "      <th>origin_coord</th>\n",
       "    </tr>\n",
       "  </thead>\n",
       "  <tbody>\n",
       "    <tr>\n",
       "      <th>0</th>\n",
       "      <td>18</td>\n",
       "      <td>Hamburg</td>\n",
       "      <td>5</td>\n",
       "    </tr>\n",
       "    <tr>\n",
       "      <th>1</th>\n",
       "      <td>18</td>\n",
       "      <td>Prague</td>\n",
       "      <td>10</td>\n",
       "    </tr>\n",
       "    <tr>\n",
       "      <th>2</th>\n",
       "      <td>18</td>\n",
       "      <td>Turin</td>\n",
       "      <td>8</td>\n",
       "    </tr>\n",
       "    <tr>\n",
       "      <th>3</th>\n",
       "      <td>19</td>\n",
       "      <td>Hamburg</td>\n",
       "      <td>6</td>\n",
       "    </tr>\n",
       "    <tr>\n",
       "      <th>4</th>\n",
       "      <td>19</td>\n",
       "      <td>Prague</td>\n",
       "      <td>8</td>\n",
       "    </tr>\n",
       "    <tr>\n",
       "      <th>5</th>\n",
       "      <td>19</td>\n",
       "      <td>Turin</td>\n",
       "      <td>6</td>\n",
       "    </tr>\n",
       "    <tr>\n",
       "      <th>6</th>\n",
       "      <td>20</td>\n",
       "      <td>Hamburg</td>\n",
       "      <td>5</td>\n",
       "    </tr>\n",
       "    <tr>\n",
       "      <th>7</th>\n",
       "      <td>20</td>\n",
       "      <td>Prague</td>\n",
       "      <td>8</td>\n",
       "    </tr>\n",
       "    <tr>\n",
       "      <th>8</th>\n",
       "      <td>20</td>\n",
       "      <td>Turin</td>\n",
       "      <td>6</td>\n",
       "    </tr>\n",
       "    <tr>\n",
       "      <th>9</th>\n",
       "      <td>21</td>\n",
       "      <td>Hamburg</td>\n",
       "      <td>7</td>\n",
       "    </tr>\n",
       "    <tr>\n",
       "      <th>10</th>\n",
       "      <td>21</td>\n",
       "      <td>Prague</td>\n",
       "      <td>5</td>\n",
       "    </tr>\n",
       "    <tr>\n",
       "      <th>11</th>\n",
       "      <td>21</td>\n",
       "      <td>Turin</td>\n",
       "      <td>14</td>\n",
       "    </tr>\n",
       "    <tr>\n",
       "      <th>12</th>\n",
       "      <td>22</td>\n",
       "      <td>Hamburg</td>\n",
       "      <td>5</td>\n",
       "    </tr>\n",
       "    <tr>\n",
       "      <th>13</th>\n",
       "      <td>22</td>\n",
       "      <td>Prague</td>\n",
       "      <td>3</td>\n",
       "    </tr>\n",
       "    <tr>\n",
       "      <th>14</th>\n",
       "      <td>22</td>\n",
       "      <td>Turin</td>\n",
       "      <td>4</td>\n",
       "    </tr>\n",
       "  </tbody>\n",
       "</table>\n",
       "</div>"
      ],
      "text/plain": [
       "    Week   region  origin_coord\n",
       "0     18  Hamburg             5\n",
       "1     18   Prague            10\n",
       "2     18    Turin             8\n",
       "3     19  Hamburg             6\n",
       "4     19   Prague             8\n",
       "5     19    Turin             6\n",
       "6     20  Hamburg             5\n",
       "7     20   Prague             8\n",
       "8     20    Turin             6\n",
       "9     21  Hamburg             7\n",
       "10    21   Prague             5\n",
       "11    21    Turin            14\n",
       "12    22  Hamburg             5\n",
       "13    22   Prague             3\n",
       "14    22    Turin             4"
      ]
     },
     "execution_count": 187,
     "metadata": {},
     "output_type": "execute_result"
    }
   ],
   "source": []
  },
  {
   "cell_type": "code",
   "execution_count": 188,
   "metadata": {},
   "outputs": [],
   "source": [
    "#SQL Connection\n",
    "\n",
    "import pyodbc\n",
    "\n",
    "conn = pyodbc.connect('Driver={SQL Server};'\n",
    "                      'Server=DESKTOP-VBRKFH1\\SQLEXPRESS;'\n",
    "                      'Database=Bar;'\n",
    "                      'Trusted_Connection=yes;')\n",
    "\n",
    "cursor = conn.cursor()"
   ]
  },
  {
   "cell_type": "code",
   "execution_count": null,
   "metadata": {},
   "outputs": [],
   "source": []
  }
 ],
 "metadata": {
  "kernelspec": {
   "display_name": "Python 3",
   "language": "python",
   "name": "python3"
  },
  "language_info": {
   "codemirror_mode": {
    "name": "ipython",
    "version": 3
   },
   "file_extension": ".py",
   "mimetype": "text/x-python",
   "name": "python",
   "nbconvert_exporter": "python",
   "pygments_lexer": "ipython3",
   "version": "3.8.5"
  }
 },
 "nbformat": 4,
 "nbformat_minor": 4
}
